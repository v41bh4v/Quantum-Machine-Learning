{
 "cells": [
  {
   "cell_type": "code",
   "execution_count": 1,
   "metadata": {},
   "outputs": [],
   "source": [
    "import numpy as np\n",
    "import scipy\n",
    "from scipy.linalg import expm\n",
    "import matplotlib.pyplot as plt\n",
    "from mpl_toolkits.mplot3d import Axes3D\n",
    "from sklearn import datasets\n",
    "from sklearn.model_selection import train_test_split\n",
    "from sklearn.preprocessing import StandardScaler, MinMaxScaler\n",
    "from sklearn.decomposition import PCA\n",
    "\n",
    "def Breast_cancer(training_size, test_size, n, PLOT_DATA):\n",
    "    class_labels = [r'A', r'B']\n",
    "    data, target = datasets.load_breast_cancer(True)\n",
    "    sample_train, sample_test, label_train, label_test = train_test_split(data, target, test_size=0.3, random_state=12)\n",
    "\n",
    "    # Now we standarize for gaussian around 0 with unit variance\n",
    "    std_scale = StandardScaler().fit(sample_train)\n",
    "    sample_train = std_scale.transform(sample_train)\n",
    "    sample_test = std_scale.transform(sample_test)\n",
    "\n",
    "    # Now reduce number of features to number of qubits\n",
    "    pca = PCA(n_components=n).fit(sample_train)\n",
    "    sample_train = pca.transform(sample_train)\n",
    "    sample_test = pca.transform(sample_test)\n",
    "\n",
    "    # Scale to the range (-1,+1)\n",
    "    samples = np.append(sample_train, sample_test, axis=0)\n",
    "    minmax_scale = MinMaxScaler((-1, 1)).fit(samples)\n",
    "    sample_train = minmax_scale.transform(sample_train)\n",
    "    sample_test = minmax_scale.transform(sample_test)\n",
    "\n",
    "    # Pick training size number of samples from each distro\n",
    "    training_input = {key: (sample_train[label_train == k, :])[:training_size] for k, key in enumerate(class_labels)}\n",
    "    test_input = {key: (sample_train[label_train == k, :])[training_size:(\n",
    "        training_size+test_size)] for k, key in enumerate(class_labels)}\n",
    "\n",
    "    if PLOT_DATA:\n",
    "        for k in range(0, 2):\n",
    "            plt.scatter(sample_train[label_train == k, 0][:training_size],\n",
    "                        sample_train[label_train == k, 1][:training_size])\n",
    "\n",
    "        plt.title(\"PCA dim. reduced Breast cancer dataset\")\n",
    "        plt.show()\n",
    "\n",
    "    return sample_train, training_input, test_input, class_labels"
   ]
  },
  {
   "cell_type": "code",
   "execution_count": null,
   "metadata": {},
   "outputs": [],
   "source": []
  }
 ],
 "metadata": {
  "kernelspec": {
   "display_name": "Python 3",
   "language": "python",
   "name": "python3"
  },
  "language_info": {
   "codemirror_mode": {
    "name": "ipython",
    "version": 3
   },
   "file_extension": ".py",
   "mimetype": "text/x-python",
   "name": "python",
   "nbconvert_exporter": "python",
   "pygments_lexer": "ipython3",
   "version": "3.6.5"
  }
 },
 "nbformat": 4,
 "nbformat_minor": 2
}
